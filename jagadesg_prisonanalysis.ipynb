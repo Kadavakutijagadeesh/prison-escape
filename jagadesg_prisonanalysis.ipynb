{
 "cells": [
  {
   "cell_type": "code",
   "execution_count": 6,
   "id": "06a2fd7b",
   "metadata": {},
   "outputs": [],
   "source": [
    "import pandas as pd\n"
   ]
  },
  {
   "cell_type": "code",
   "execution_count": 9,
   "id": "cf05752e",
   "metadata": {},
   "outputs": [],
   "source": [
    "# Read the CSV file, fallback to download if not found\n",
    "import os\n",
    "csv_path = 'prison.csv'\n",
    "if not os.path.exists(csv_path):\n",
    "    # Download from Wikipedia if not present\n",
    "    import requests\n",
    "    import pandas as pd\n",
    "    from bs4 import BeautifulSoup\n",
    "    url = \"https://en.wikipedia.org/wiki/List_of_helicopter_prison_escapes\"\n",
    "    headers = {\n",
    "        \"User-Agent\": \"Mozilla/5.0 (Windows NT 10.0; Win64; x64) AppleWebKit/537.36 (KHTML, like Gecko) Chrome/58.0.3029.110 Safari/537.3\"\n",
    "    }\n",
    "    response = requests.get(url, headers=headers)\n",
    "    soup = BeautifulSoup(response.content, \"html.parser\")\n",
    "    tables = soup.find_all(\"table\")\n",
    "    desired_table = None\n",
    "    header_row = None\n",
    "    rows = None\n",
    "    for table in tables:\n",
    "        rows = table.find_all(\"tr\")\n",
    "        if len(rows) == 0:\n",
    "            continue\n",
    "        header_row = [cell.text.strip() for cell in rows[0].find_all([\"th\", \"td\"])]\n",
    "        if any(\"Date\" in h for h in header_row) and any(\"Prison name\" in h for h in header_row):\n",
    "            desired_table = table\n",
    "            break\n",
    "    if desired_table is None or header_row is None or len(header_row) == 0:\n",
    "        raise ValueError(\"Could not find the desired table or header row on the page. Last header_row found: {}\".format(header_row))\n",
    "    data = []\n",
    "    for row in rows[1:]:\n",
    "        cells = row.find_all(\"td\")\n",
    "        if not cells:\n",
    "            continue\n",
    "        row_data = [cell.text.strip() for cell in cells]\n",
    "        data.append(row_data)\n",
    "    df = pd.DataFrame(data, columns=header_row)\n",
    "    df.to_csv(csv_path, index=False)\n",
    "else:\n",
    "    df = pd.read_csv(csv_path)"
   ]
  },
  {
   "cell_type": "code",
   "execution_count": 11,
   "id": "6efcf88b",
   "metadata": {},
   "outputs": [
    {
     "name": "stdout",
     "output_type": "stream",
     "text": [
      "Warning: 3 date(s) could not be parsed and are set as NaT.\n"
     ]
    },
    {
     "name": "stderr",
     "output_type": "stream",
     "text": [
      "C:\\Users\\admin\\AppData\\Local\\Temp\\ipykernel_4768\\3097428646.py:2: UserWarning: The argument 'infer_datetime_format' is deprecated and will be removed in a future version. A strict version of it is now the default, see https://pandas.pydata.org/pdeps/0004-consistent-to-datetime-parsing.html. You can safely remove this argument.\n",
      "  df['Date'] = pd.to_datetime(df['Date'], errors='coerce', infer_datetime_format=True)\n"
     ]
    }
   ],
   "source": [
    "# Convert the Date column to datetime format for proper sorting, handling mixed/incomplete formats\n",
    "df['Date'] = pd.to_datetime(df['Date'], errors='coerce', infer_datetime_format=True)\n",
    "if df['Date'].isna().sum() > 0:\n",
    "    print(f\"Warning: {df['Date'].isna().sum()} date(s) could not be parsed and are set as NaT.\")"
   ]
  },
  {
   "cell_type": "code",
   "execution_count": 12,
   "id": "d0e7b8bb",
   "metadata": {},
   "outputs": [],
   "source": [
    "# Sort the data by date in ascending order (oldest to newest)\n",
    "sorted_df = df.sort_values('Date', ascending=True)\n"
   ]
  },
  {
   "cell_type": "code",
   "execution_count": 13,
   "id": "0d16cb10",
   "metadata": {},
   "outputs": [],
   "source": [
    "# Save the sorted data to a new CSV file\n",
    "sorted_df.to_csv('prison_dates.csv', index=False)"
   ]
  },
  {
   "cell_type": "code",
   "execution_count": 14,
   "id": "1ab5fb1a",
   "metadata": {},
   "outputs": [
    {
     "name": "stdout",
     "output_type": "stream",
     "text": [
      "Data has been sorted by date and saved to 'prison_dates.csv'\n",
      "Date range: 1971-08-19 00:00:00 to 2020-09-25 00:00:00\n"
     ]
    }
   ],
   "source": [
    "print(\"Data has been sorted by date and saved to 'prison_dates.csv'\")\n",
    "print(f\"Date range: {sorted_df['Date'].min()} to {sorted_df['Date'].max()}\")"
   ]
  }
 ],
 "metadata": {
  "kernelspec": {
   "display_name": "venv",
   "language": "python",
   "name": "python3"
  },
  "language_info": {
   "codemirror_mode": {
    "name": "ipython",
    "version": 3
   },
   "file_extension": ".py",
   "mimetype": "text/x-python",
   "name": "python",
   "nbconvert_exporter": "python",
   "pygments_lexer": "ipython3",
   "version": "3.13.7"
  }
 },
 "nbformat": 4,
 "nbformat_minor": 5
}
